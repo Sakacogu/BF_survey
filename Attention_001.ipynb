{
 "cells": [
  {
   "cell_type": "markdown",
   "id": "834dddd5-5a85-42f5-8fd9-086b5058165c",
   "metadata": {},
   "source": [
    "##Attention Vs Happiness Vs. Dicipline\n",
    "\n",
    "We are going to asess childrens attention, happiness and dicipline in using cellphone\n",
    "\n",
    "\n",
    "\n"
   ]
  },
  {
   "cell_type": "code",
   "execution_count": 27,
   "id": "f28ea090-fa74-4d13-bee1-fe3612897415",
   "metadata": {},
   "outputs": [],
   "source": [
    "#Load Data Set\n",
    "\n",
    "import pandas as pd\n",
    "from sklearn.model_selection import KFold, cross_val_score\n",
    "from sklearn.impute import SimpleImputer\n",
    "from sklearn.preprocessing import OneHotEncoder\n",
    "from sklearn.compose import ColumnTransformer\n",
    "from sklearn.pipeline import Pipeline\n",
    "from sklearn.linear_model import ElasticNet\n",
    "from sklearn.metrics import make_scorer, mean_absolute_error\n",
    "\n",
    "df = pd.read_csv(\"BF_survey.csv\")\n",
    "df1 = pd.read_csv(\"roster.tsv\")\n",
    "df2 = pd.read_csv(\"BF_survey_sex_fixed.csv\")\n"
   ]
  },
  {
   "cell_type": "code",
   "execution_count": null,
   "id": "91a4b48c",
   "metadata": {},
   "outputs": [
    {
     "data": {
      "text/html": [
       "<div>\n",
       "<style scoped>\n",
       "    .dataframe tbody tr th:only-of-type {\n",
       "        vertical-align: middle;\n",
       "    }\n",
       "\n",
       "    .dataframe tbody tr th {\n",
       "        vertical-align: top;\n",
       "    }\n",
       "\n",
       "    .dataframe thead th {\n",
       "        text-align: right;\n",
       "    }\n",
       "</style>\n",
       "<table border=\"1\" class=\"dataframe\">\n",
       "  <thead>\n",
       "    <tr style=\"text-align: right;\">\n",
       "      <th></th>\n",
       "      <th>Sex\\tClass</th>\n",
       "    </tr>\n",
       "  </thead>\n",
       "  <tbody>\n",
       "    <tr>\n",
       "      <th>0</th>\n",
       "      <td>F\\t7</td>\n",
       "    </tr>\n",
       "    <tr>\n",
       "      <th>1</th>\n",
       "      <td>M\\t7</td>\n",
       "    </tr>\n",
       "    <tr>\n",
       "      <th>2</th>\n",
       "      <td>M\\t7</td>\n",
       "    </tr>\n",
       "    <tr>\n",
       "      <th>3</th>\n",
       "      <td>F\\t7</td>\n",
       "    </tr>\n",
       "    <tr>\n",
       "      <th>4</th>\n",
       "      <td>F\\t7</td>\n",
       "    </tr>\n",
       "  </tbody>\n",
       "</table>\n",
       "</div>"
      ],
      "text/plain": [
       "  Sex\\tClass\n",
       "0       F\\t7\n",
       "1       M\\t7\n",
       "2       M\\t7\n",
       "3       F\\t7\n",
       "4       F\\t7"
      ]
     },
     "execution_count": 12,
     "metadata": {},
     "output_type": "execute_result"
    }
   ],
   "source": [
    "#Check for Missing Values\n",
    "df.head(500)\n",
    "df1.head(5)\n"
   ]
  },
  {
   "cell_type": "code",
   "execution_count": 29,
   "id": "cbfcb769",
   "metadata": {},
   "outputs": [
    {
     "name": "stdout",
     "output_type": "stream",
     "text": [
      "Sex\n",
      "1.0    366\n",
      "0.0    238\n",
      "NaN     43\n",
      "2.0     25\n",
      "5.0      1\n",
      "3.0      1\n",
      "Name: count, dtype: int64\n",
      "\n",
      "Missing values in Sex: 43\n",
      "Sex\n",
      "Female    395\n",
      "Male      279\n",
      "Name: count, dtype: int64\n",
      "\n",
      "Missing values in Sex: 0\n"
     ]
    }
   ],
   "source": [
    "print(df[\"Sex\"].value_counts(dropna=False))\n",
    "\n",
    "print(\"\\nMissing values in Sex:\", df[\"Sex\"].isna().sum())\n",
    "\n",
    "print(df2[\"Sex\"].value_counts(dropna=False))\n",
    "\n",
    "print(\"\\nMissing values in Sex:\", df2[\"Sex\"].isna().sum())"
   ]
  },
  {
   "cell_type": "code",
   "execution_count": null,
   "id": "24532344-1b70-486e-8a5e-0613f3cbb4c1",
   "metadata": {},
   "outputs": [],
   "source": [
    "#Check for Missing Values"
   ]
  },
  {
   "cell_type": "code",
   "execution_count": null,
   "id": "1d38973d-ead7-4c15-ad5b-f156755d598b",
   "metadata": {},
   "outputs": [],
   "source": [
    "\n"
   ]
  }
 ],
 "metadata": {
  "kernelspec": {
   "display_name": "venv",
   "language": "python",
   "name": "python3"
  },
  "language_info": {
   "codemirror_mode": {
    "name": "ipython",
    "version": 3
   },
   "file_extension": ".py",
   "mimetype": "text/x-python",
   "name": "python",
   "nbconvert_exporter": "python",
   "pygments_lexer": "ipython3",
   "version": "3.14.0"
  }
 },
 "nbformat": 4,
 "nbformat_minor": 5
}
