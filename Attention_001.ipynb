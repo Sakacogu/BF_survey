{
 "cells": [
  {
   "cell_type": "markdown",
   "id": "834dddd5-5a85-42f5-8fd9-086b5058165c",
   "metadata": {},
   "source": [
    "##Attention Vs Happiness Vs. Dicipline\n",
    "\n",
    "We are going to asess childrens attention, happiness and dicipline in using cellphone\n",
    "\n",
    "\n",
    "\n"
   ]
  },
  {
   "cell_type": "code",
   "execution_count": 1,
   "id": "f28ea090-fa74-4d13-bee1-fe3612897415",
   "metadata": {},
   "outputs": [],
   "source": [
    "#Load Data Set\n",
    "\n",
    "import pandas as pd\n",
    "from sklearn.model_selection import KFold, cross_val_score\n",
    "from sklearn.impute import SimpleImputer\n",
    "from sklearn.preprocessing import OneHotEncoder\n",
    "from sklearn.compose import ColumnTransformer\n",
    "from sklearn.pipeline import Pipeline\n",
    "from sklearn.linear_model import ElasticNet\n",
    "from sklearn.metrics import make_scorer, mean_absolute_error\n",
    "\n",
    "df = pd.read_csv(\"BF_survey - Sheet1.csv\")"
   ]
  },
  {
   "cell_type": "code",
   "execution_count": null,
   "id": "24532344-1b70-486e-8a5e-0613f3cbb4c1",
   "metadata": {},
   "outputs": [],
   "source": [
    "#Check for Missing Values"
   ]
  },
  {
   "cell_type": "code",
   "execution_count": null,
   "id": "1d38973d-ead7-4c15-ad5b-f156755d598b",
   "metadata": {},
   "outputs": [],
   "source": [
    "#Look at Distribution"
   ]
  }
 ],
 "metadata": {
  "kernelspec": {
   "display_name": "venv",
   "language": "python",
   "name": "python3"
  },
  "language_info": {
   "codemirror_mode": {
    "name": "ipython",
    "version": 3
   },
   "file_extension": ".py",
   "mimetype": "text/x-python",
   "name": "python",
   "nbconvert_exporter": "python",
   "pygments_lexer": "ipython3",
   "version": "3.14.0"
  }
 },
 "nbformat": 4,
 "nbformat_minor": 5
}
