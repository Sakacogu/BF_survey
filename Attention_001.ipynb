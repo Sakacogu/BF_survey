{
 "cells": [
  {
   "cell_type": "markdown",
   "id": "834dddd5-5a85-42f5-8fd9-086b5058165c",
   "metadata": {},
   "source": [
    "##Attention Vs Happiness Vs. Dicipline\n",
    "\n",
    "We are going to asess childrens attention, happiness and dicipline in using cellphone\n",
    "\n",
    "\n",
    "\n"
   ]
  },
  {
   "cell_type": "code",
   "execution_count": null,
   "id": "f28ea090-fa74-4d13-bee1-fe3612897415",
   "metadata": {},
   "outputs": [],
   "source": [
    "#Load Data Set"
   ]
  },
  {
   "cell_type": "code",
   "execution_count": null,
   "id": "24532344-1b70-486e-8a5e-0613f3cbb4c1",
   "metadata": {},
   "outputs": [],
   "source": [
    "#Check for Missing Values"
   ]
  },
  {
   "cell_type": "code",
   "execution_count": null,
   "id": "1d38973d-ead7-4c15-ad5b-f156755d598b",
   "metadata": {},
   "outputs": [],
   "source": [
    "#Look at Distribution"
   ]
  }
 ],
 "metadata": {
  "kernelspec": {
   "display_name": "Python [conda env:base] *",
   "language": "python",
   "name": "conda-base-py"
  },
  "language_info": {
   "codemirror_mode": {
    "name": "ipython",
    "version": 3
   },
   "file_extension": ".py",
   "mimetype": "text/x-python",
   "name": "python",
   "nbconvert_exporter": "python",
   "pygments_lexer": "ipython3",
   "version": "3.13.5"
  }
 },
 "nbformat": 4,
 "nbformat_minor": 5
}
